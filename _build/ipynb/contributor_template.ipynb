{
 "cells": [
  {
   "cell_type": "markdown",
   "metadata": {},
   "source": [
    "### Những người thực hiện\n",
    "Bản dịch trong trang này được thực hiện bởi:\n",
    "<!--\n",
    "Tác giả của mỗi Pull Request điền tên mình và tên những người review mà bạn thấy\n",
    "hữu ích vào từng phần tương ứng. Mỗi dòng một tên, bắt đầu bằng dấu *.\n",
    "\n",
    "Lưu ý:\n",
    "* Mỗi tên chỉ xuất hiện một lần: Nếu bạn đã dịch hoặc review phần 1 của trang này\n",
    "thì không cần điền vào các phần sau nữa.\n",
    "\n",
    "* Nếu reviewer không cung cấp tên, bạn có thể dùng tên tài khoản GitHub của họ\n",
    "với dấu `@` ở đầu. Ví dụ: @aivivn.\n",
    "\n",
    "* Nếu tên bạn và các reviewer đã tồn tại trước đó, bạn cần xóa 2 dòng\n",
    "trong Phần tương ứng dưới đây đi \n",
    "-->\n",
    "\n",
    "<!-- Phần 1 -->\n",
    "*\n",
    "<!-- Phần 2 -->\n",
    "*\n",
    "<!-- Phần 3 -->\n",
    "*"
   ]
  }
 ],
 "metadata": {
  "language_info": {
   "name": "python"
  }
 },
 "nbformat": 4,
 "nbformat_minor": 2
}