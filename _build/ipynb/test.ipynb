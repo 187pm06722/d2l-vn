{
 "cells": [
  {
   "cell_type": "markdown",
   "metadata": {},
   "source": [
    "# aa\n",
    "\n",
    "Toàn bộ quá trình được mô tả trong :numref:`fig_supervised_learning`.\n",
    "\n",
    "![Học có giám sát.](img/supervised-learning.svg)\n",
    "\n",
    ":label:`fig_supervised_learning`\n",
    "\n",
    "~\n",
    "~\n",
    "~\n",
    "~\n",
    "~"
   ]
  }
 ],
 "metadata": {
  "language_info": {
   "name": "python"
  }
 },
 "nbformat": 4,
 "nbformat_minor": 2
}