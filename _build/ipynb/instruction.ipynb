{
 "cells": [
  {
   "cell_type": "markdown",
   "metadata": {},
   "source": [
    "## Giới thiệu từ nhóm dịch\n",
    "\n",
    "Trong những năm gần đây, học sâu là một trong các lĩnh vực được quan tâm nhiều nhất\n",
    "trong các trường đại học kỹ thuật cũng như các công ty công nghệ. Ngày càng nhiều\n",
    "các diễn đàn liên quan đến học máy và học sâu với lượng thành phiên và câu hỏi ngày\n",
    "một tăng. Một trong các diễn đàn tiếng Việt nổi bật nhất là [Forum Machine Learning cơ bản](https://www.facebook.com/groups/machinelearningcoban/) và [Diễn đàn Machine Learning cơ bản](https://forum.machinelearningcoban.com/) với hơn 35 ngàn thành viên và hàng chục câu hỏi mỗi ngày.\n",
    "\n",
    "Qua các diễn đàn đó, chúng tôi nhận ra rằng nhu cầu theo học lĩnh vực này ngày\n",
    "một tăng trong khi lượng tài liệu tiếng Việt còn rất hạn chế. Đặc biệt, chúng tôi\n",
    "nhận thấy rằng các tài liệu tiếng Việt còn chưa nhất quán trong cách dịch, việc này\n",
    "khiến những người theo học lĩnh vực này bị bối rối trước quá nhiều thông tin nhưng\n",
    "lại quá ít thông tin đầy đủ. Việc này thúc đẩy chúng tôi tìm và dịch những cuốn sách\n",
    "được quan tâm nhiều về lĩnh vực này.\n",
    "\n",
    "Nhóm dịch đã bước đầu thành công khi dịch cuốn [Machine Learning Yearning](https://github.com/aivivn/Machine-Learning-Yearning-Vietnamese-Translation/blob/master/chapters/all_chapters.md)\n",
    "của tác giả Andrew Ng. Cuốn sách này đề cập đến các vấn đề cần lưu ý khi xây dựng\n",
    "các hệ thống học máy, trong đó đề cập đến nhiều kiến thức thực tế khi thực hiện dự \n",
    "án. Tuy nhiên, cuốn sách này phần nào hướng tới những người đã có những kinh nghiệm\n",
    "nhất định đã đang tham gia các dự án học máy. Chúng tôi vẫn khao khát được mang một\n",
    "tài liệu đầy đủ hơn với đủ kiến thức toán nền tảng, cách triển khai các công thức\n",
    "toán bằng mã nguồn, cùng với cách triển khai một hệ thống thực tế trên một nền tảng\n",
    "học sâu được nhiều người sử dụng. Và quan trọng hơn, các kiến thức này phải cập nhật\n",
    "các xu hướng học máy mới nhất.\n",
    "\n",
    "Sau nhiều ngày tìm kiếm các cuốn sách về học máy/học sâu gây được nhiều chú ý, chúng \n",
    "tôi quyết định dịch cuốn [Dive into Deep Learning](https://www.d2l.ai/) của nhóm tác \n",
    "giả từ công ty Amazon. Cuốn này hội tụ đủ các yếu tố: có giải thích toán dễ hiểu,\n",
    "có code đi kèm cho những ai không muốn đọc toán, cập nhật đầy đủ những khía cạnh của\n",
    "học sâu, và quan trọng nhất là không đòi hỏi bản quyền để dịch. Chúng tôi đã liên hệ\n",
    "với nhóm tác giả và họ rất vui mừng khi cuốn sách sắp được phổ biến rộng rãi hơn nữa.\n",
    "\n",
    "Hiện cuốn sách vẫn đang được thực hiện và sắp ra mắt phiên bản 0.7.0. Nhóm tác giả\n",
    "có lời khuyên chúng tôi có thể dịch bản 0.7.0 này ở branch\n",
    "[numpy2](https://github.com/d2l-ai/d2l-en/tree/numpy2) và có thể cập nhật khi cuốn \n",
    "sách được xuất bản. Chúng tôi cũng chọn bản này vì nó sử dụng thư viện chính là\n",
    "`numpy` (tích hợp trong MXNet), một thư viện xử lý mảng nhiều chiều phổ biến mà theo\n",
    "chúng tôi, người làm về học máy, học sâu và khoa học dữ liệu cần biết.\n",
    "\n",
    "Để có thể thực hiện dịch dự án dịch cuốn sách hơn 800 trang này, chúng tôi rất cần\n",
    "sự chung tay của cộng đồng. Mọi sự đóng góp đều đáng quý và sẽ được ghi nhận. Chúng tôi hy vọng cuốn sách sẽ được hoàn thành trong một năm. Và sau đó nó có thể trở thành\n",
    "giáo trình trong các trường đại học. Hy vọng một ngày chúng ta có thể nhìn thấy\n",
    "một trường của Việt Nam trong danh sách này:\n",
    "\n",
    "![img](https://i.ibb.co/M2ZXzP6/Screen-Shot-2019-11-27-at-6-37-04-PM.png)\n",
    "\n",
    "\n",
    "## Hướng dẫn đóng góp\n",
    "\n",
    "Có ba công việc chính bạn có thể đóng góp vào dự án: Dịch, Review, và Hỗ trợ kỹ thuật.\n",
    "\n",
    "### Dịch\n",
    "\n",
    "Mỗi Pull Request liên quan tới việc dịch chỉ dịch một phần của một file `.md` nằm giữa hai dòng:"
   ]
  },
  {
   "cell_type": "markdown",
   "metadata": {},
   "source": [
    "```\n",
    "<!-- =================== Bắt đầu dịch Phần x ================================-->\n",
    "```\n"
   ]
  },
  {
   "cell_type": "markdown",
   "metadata": {},
   "source": [
    "và"
   ]
  },
  {
   "cell_type": "markdown",
   "metadata": {},
   "source": [
    "```\n",
    "<!-- =================== Kết thúc dịch Phần x ================================-->\n",
    "```\n"
   ]
  },
  {
   "cell_type": "markdown",
   "metadata": {},
   "source": [
    "Việc chia nhỏ một file ra nhiều phần khiến một Pull Request mất không quá nhiều thời gian trong cả việc thực hiện lẫn review.\n",
    "\n",
    "(xem ví dụ [tại đây](https://github.com/aivivn/d2l-vn/blame/master/chapter_preface/index_vn.md#L1-L47).)\n",
    "\n",
    "\n",
    "**Các bước thực hiện khi dịch một *phần* của một file `.md`:**\n",
    "\n",
    "1. Tham khảo cách [đóng góp vào một dự án GitHub](https://codetot.net/contribute-github/)\n",
    "\n",
    "2. Luôn luôn giữ bản forked của mình cập nhật với bản chính trong repo này\n",
    "\n",
    "3. Tìm các issues liên quan đến việc dịch [tại đây](https://github.com/aivivn/d2l-vn/issues).\n",
    "\n",
    "4. Dịch và tạo một Pull Request.\n",
    "\n",
    "5. Trả lời các bình luận từ các reviewers\n",
    "\n",
    "6. Điền tên mình và tên các reviewer có các phản hồi hữu ích (từ góc nhìn người dịch chính) vào cuối file, mục \"Những người thực hiện\".\n",
    "\n",
    "\n",
    "**Lưu ý:**\n",
    "\n",
    "1. Thuật ngữ\n",
    "Luôn luôn bám sát [Bảng thuật ngữ](https://github.com/aivivn/d2l-vn/blob/master/glossary.md) khi dịch. Nếu một từ/cụm chưa có trong Bảng thuật ngữ, hãy tạo một Pull Request riêng đề xuất cách dịch từ/cụm đó.\n",
    "\n",
    "2. Giữ đúng format của bản gốc:\n",
    "    * Các phần in nghiêng, in đậm\n",
    "    * Tiêu đề (số lượng dấu `#` đầu dòng)\n",
    "    * Bảng biểu, chú thích cho bảng (dòng phía trên mỗi bảng bắt đầu bằng dấu `:`)\n",
    "    * Dịch các từ trong hình vẽ nếu cần. Các dòng có hình có dạng: `![caption](path)`\n",
    "    * Dịch các chú thích hình vẽ (thay các cụm `*dịch chú thích ảnh phía trên*` bằng bản dịch tiếng Việt)\n",
    "    * Không dịch các phần code (nằm giữa hai dấu `````)\n",
    "    * Copy các công thức toán từ bản gốc (các đoạn có `$`)\n",
    "    * Giữ các dòng gán nhãn (bắt đầu với `:label:`)\n",
    "    * Không tự thêm bớt các dòng trắng\n",
    "3. Ngắt các đoạn dài thành các dòng ngắn khoảng 80-100 ký tự. Markdown sẽ coi\n",
    "những dòng liền nhau không có dòng trắng là một đoạn văn. Việc này giúp công đoạn review được thuận tiện hơn.\n",
    "\n",
    "### Review\n",
    "Chọn một Pull Request trong [danh sách này](https://github.com/aivivn/d2l-vn/pulls) và bắt đầu review.\n",
    "\n",
    "Khi Review, bạn có thể đề xuất thay đổi cách dịch mỗi dòng trực tiếp như trong hình dưới đây:\n",
    "![img](https://user-images.githubusercontent.com/19977/58752991-f39d0880-846c-11e9-8c03-c7aded86ee9b.png)\n",
    "\n",
    "Nếu bạn có những phản hồi hữu ích, tên của bạn sẽ được tác giả chính của Pull Request đó điền vào cuối file mục \"Những người thực hiện\".\n",
    "\n",
    "### Hỗ trợ kỹ thuật\n",
    "Để phục vụ cho việc dịch trên quy mô lớn, nhóm dịch cần một số bạn hỗ trợ kỹ thuật cho một số việc dưới đây:\n",
    "\n",
    "* Lấy các bản gốc từ [bản tiếng Anh](https://github.com/d2l-ai/d2l-en/tree/numpy2). Vì bản này tác giả vẫn cập nhật nên dịch đến đâu chúng ta sẽ cập nhật đến đó.\n",
    "\n",
    "* Tự động thêm comment vào các bản gốc (`<!--` và `-->`) để các phần này không hiển thị trên [trang web chính](https://d2l.aivivn.com/). Phần thêm này có thể được thực hiện tự động bằng cách chạy:"
   ]
  },
  {
   "cell_type": "markdown",
   "metadata": {},
   "source": [
    "```\n",
    "python3 utils --convert <path_to_file>.md\n",
    "```\n"
   ]
  },
  {
   "cell_type": "markdown",
   "metadata": {},
   "source": [
    "và tạo ra file `<path_to_file>_vn.md`.\n",
    "\n",
    "* Chia các file lớn thành các mục nhỏ như trong [ví dụ này](https://github.com/aivivn/d2l-vn/blame/master/chapter_preface/index_vn.md). Phần này cần thực hiện bằng tay. Mỗi phần trong file nên bao gồm những mục cụ thể, không bắt đầu và kết thúc giữa chừng của một mục.\n",
    "\n",
    "* Dịch các chữ trong hình vẽ theo Bảng thuật ngữ. Sẵn sàng đổi các bản dịch này nếu\n",
    "Bảng thuật ngữ thay đổi\n",
    "\n",
    "* Hỗ trợ quản lý project trên github, slack và diễn đàn.\n",
    "\n",
    "**Lưu ý:** Chỉ bắt đầu thực hiện công việc nếu đã có một issue tương ứng được tạo. Nếu bạn thấy một việc cần thiết, hãy tạo issue và thảo luận trước khi thực hiện. Tránh việc dẫm lên chân nhau."
   ]
  }
 ],
 "metadata": {
  "language_info": {
   "name": "python"
  }
 },
 "nbformat": 4,
 "nbformat_minor": 2
}