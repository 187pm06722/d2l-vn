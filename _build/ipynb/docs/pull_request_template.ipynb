{
 "cells": [
  {
   "cell_type": "markdown",
   "metadata": {},
   "source": [
    "## Pull Request checklist\n",
    "\n",
    "**Đánh dấu tick (sau khi \"Create Pull Request\") vào các mục dưới đây**\n",
    "\n",
    "* [ ] Pull Request này tương ứng với issue nào? Trả lời số issue sau dấu `#` (không có dấu cách): Close #\n",
    "\n",
    "* [ ] Bản dịch này có bám sát [Bảng thuật ngữ](https://github.com/aivivn/d2l-vn/blob/master/glossary.md) không? Nếu một từ/cụm chưa có trong Bảng thuật ngữ, hãy tạo một Pull Request riêng đề xuất cách dịch từ/cụm đó.\n",
    "\n",
    "* [ ] Format của bản gốc có được giữ nguyên không?\n",
    "    * Các phần in nghiêng, in đậm\n",
    "    * Tiêu đề (số lượng dấu `#` đầu dòng)\n",
    "    * Bảng biểu, chú thích cho bảng (dòng phía trên mỗi bảng bắt đầu bằng dấu `:`)\n",
    "    * Dịch các từ trong hình vẽ nếu cần. Các dòng có hình có dạng: `![caption](path)`\n",
    "    * Dịch các chú thích hình vẽ (thay các cụm `*dịch chú thích ảnh phía trên*` bằng bản dịch tiếng Việt)\n",
    "    * Không dịch các phần code (nằm giữa hai dấu `````)\n",
    "    * Copy các công thức toán từ bản gốc (các đoạn có `$`)\n",
    "    * Giữ các dòng gán nhãn (bắt đầu với `:label:`)\n",
    "    * Không tự thêm bớt các dòng trắng\n",
    "     \n",
    "* [ ] Trong một đoạn văn, mỗi câu văn đã được viết trong một dòng, giữa các dòng không có dòng trắng. Markdown sẽ coi những dòng liền nhau không có dòng trắng là một đoạn văn. Việc này giúp công đoạn review được thuận tiện hơn.\n",
    "\n",
    "* [ ] Tất cả chữ trong các hình vẽ đã được dịch. Nếu chưa, vui lòng xem thêm [hướng dẫn hoặc yêu cầu dịch hình](../img/README.md).\n",
    "\n",
    "* [ ] Điền tên của bạn và vào mục \"Những người thực hiện\" ở cuối file.\n",
    "\n",
    "* [ ] Pull Request này đã sẵn sàng cho việc Review chưa?\n",
    "\n",
    "* [ ] **Sau khi được approve**, điền tên những reviewers mà bạn thấy có nhiều đóng góp cho Pull Request này.\n",
    "\n",
    "## Với reviewer\n",
    "\n",
    "1. Chỉ review nếu Pull Request này đã sẵn sàng cho việc review.\n",
    "\n",
    "2. **Bạn có thể đề xuất thay đổi cách dịch mỗi dòng trực tiếp như trong hình dưới đây:**\n",
    "![img](https://user-images.githubusercontent.com/19977/58752991-f39d0880-846c-11e9-8c03-c7aded86ee9b.png)"
   ]
  }
 ],
 "metadata": {
  "language_info": {
   "name": "python"
  }
 },
 "nbformat": 4,
 "nbformat_minor": 2
}