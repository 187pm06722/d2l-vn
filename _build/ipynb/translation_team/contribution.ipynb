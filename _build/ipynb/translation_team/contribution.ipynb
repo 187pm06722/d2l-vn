{
 "cells": [
  {
   "cell_type": "markdown",
   "metadata": {},
   "source": [
    "### Một vài quy tắc dịch:\n",
    "* Không dịch các danh từ riêng\n",
    "* Không dịch code\n",
    "* Không nhất thiết phải dừng từng từ từng câu nhưng phải dịch đúng ý.\n",
    "* Các thuật ngữ cần được dịch một cách nhất quán\n",
    "* Nếu một thuật ngữ chưa có trong bảng thuật ngữ, bạn có thể đề xuất một cách dịch bằng cách tạo một PR mới"
   ]
  }
 ],
 "metadata": {
  "language_info": {
   "name": "python"
  }
 },
 "nbformat": 4,
 "nbformat_minor": 2
}