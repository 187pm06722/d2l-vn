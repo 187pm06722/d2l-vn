{
 "cells": [
  {
   "cell_type": "markdown",
   "metadata": {},
   "source": [
    "### Những người thực hiện\n",
    "Bản dịch trong trang này được thực hiện bởi:\n",
    "<!--\n",
    "Tác giả của mỗi Pull Request điền tên mình và tên những người review mà bạn thấy\n",
    "hữu ích vào từng phần tương ứng. Mỗi dòng một tên, bắt đầu bằng dấu `*`.\n",
    "\n",
    "Lưu ý:\n",
    "* Nếu reviewer không cung cấp tên, bạn có thể dùng tên tài khoản GitHub của họ\n",
    "với dấu `@` ở đầu. Ví dụ: @aivivn.\n",
    "-->\n",
    "\n",
    "<!-- Phần 1 -->\n",
    "*\n",
    "\n",
    "<!-- Phần 2 -->\n",
    "*\n",
    "\n",
    "<!-- Phần 3 -->\n",
    "*\n",
    "\n",
    "<!-- Phần 4 -->\n",
    "*\n",
    "\n",
    "<!-- Phần 5 -->\n",
    "*\n",
    "\n",
    "<!-- Phần 6 -->\n",
    "*"
   ]
  }
 ],
 "metadata": {
  "language_info": {
   "name": "python"
  }
 },
 "nbformat": 4,
 "nbformat_minor": 2
}