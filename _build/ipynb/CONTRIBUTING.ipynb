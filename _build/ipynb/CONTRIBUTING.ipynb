{
 "cells": [
  {
   "cell_type": "markdown",
   "metadata": {},
   "source": [
    "### Hướng dẫn đóng góp\n",
    "\n",
    "#### Dịch (thông qua Pull Request)\n",
    "\n",
    "Mỗi Pull Request liên quan tới việc dịch chỉ dịch một phần của một file `.md` nằm giữa hai dòng:"
   ]
  },
  {
   "cell_type": "markdown",
   "metadata": {},
   "source": [
    "```\n",
    "<!-- =================== Bắt đầu dịch Phần x ================================-->\n",
    "```\n"
   ]
  },
  {
   "cell_type": "markdown",
   "metadata": {},
   "source": [
    "và"
   ]
  },
  {
   "cell_type": "markdown",
   "metadata": {},
   "source": [
    "```\n",
    "<!-- =================== Kết thúc dịch Phần x ================================-->\n",
    "```\n"
   ]
  },
  {
   "cell_type": "markdown",
   "metadata": {},
   "source": [
    "Việc chia nhỏ một file ra nhiều phần khiến một Pull Request mất không quá nhiều thời gian trong cả việc thực hiện lẫn review.\n",
    "\n",
    "(xem ví dụ [tại đây](https://github.com/aivivn/d2l-vn/blame/master/chapter_preface/index_vn.md#L1-L47).)\n",
    "\n",
    "\n",
    "**Các bước thực hiện khi dịch một *phần* của một file `.md`:**\n",
    "\n",
    "1. Tham khảo cách [đóng góp vào một dự án GitHub](https://codetot.net/contribute-github/)\n",
    "\n",
    "2. Luôn luôn giữ bản forked của mình cập nhật với bản chính trong repo này\n",
    "\n",
    "3. Tìm các issues liên quan đến việc dịch [tại đây](https://github.com/aivivn/d2l-vn/issues).\n",
    "\n",
    "4. Dịch và tạo một Pull Request.\n",
    "\n",
    "5. Trả lời các bình luận từ các reviewers\n",
    "\n",
    "6. Điền tên mình và tên các reviewer có các phản hồi hữu ích (từ góc nhìn người dịch chính) vào cuối file, mục \"Những người thực hiện\".\n",
    "\n",
    "\n",
    "**Lưu ý:**\n",
    "\n",
    "1. Thuật ngữ\n",
    "Luôn luôn bám sát [Bảng thuật ngữ](https://github.com/aivivn/d2l-vn/blob/master/glossary.md) khi dịch. Nếu một từ/cụm chưa có trong Bảng thuật ngữ, hãy tạo một Pull Request riêng đề xuất cách dịch từ/cụm đó.\n",
    "\n",
    "2. Giữ đúng format của bản gốc:\n",
    "    * Các phần in nghiêng, in đậm\n",
    "    * Tiêu đề (số lượng dấu `#` đầu dòng)\n",
    "    * Bảng biểu, chú thích cho bảng (dòng phía trên mỗi bảng bắt đầu bằng dấu `:`)\n",
    "    * Dịch các từ trong hình vẽ nếu cần. Các dòng có hình có dạng: `![caption](path)`\n",
    "    * Dịch các chú thích hình vẽ (thay các cụm `*dịch chú thích ảnh phía trên*` bằng bản dịch tiếng Việt)\n",
    "    * Không dịch các phần code (nằm giữa hai dấu `````)\n",
    "    * Copy các công thức toán từ bản gốc (các đoạn có `$`)\n",
    "    * Giữ các dòng gán nhãn (bắt đầu với `:label:`)\n",
    "    * Không tự thêm bớt các dòng trắng\n",
    "     \n",
    "3. Ngắt các đoạn dài thành các dòng ngắn khoảng 60-80 ký tự. Markdown sẽ coi\n",
    "những dòng liền nhau không có dòng trắng là một đoạn văn. Việc này giúp công đoạn review được thuận tiện hơn.\n",
    "\n",
    "#### Review\n",
    "\n",
    "Chọn một Pull Request trong [danh sách này](https://github.com/aivivn/d2l-vn/pulls) và bắt đầu review.\n",
    "\n",
    "Khi Review, bạn có thể đề xuất thay đổi cách dịch mỗi dòng trực tiếp như trong hình dưới đây:\n",
    "![img](https://user-images.githubusercontent.com/19977/58752991-f39d0880-846c-11e9-8c03-c7aded86ee9b.png)\n",
    "\n",
    "Nếu bạn có những phản hồi hữu ích, tên của bạn sẽ được tác giả chính của Pull Request đó điền vào cuối file mục \"Những người thực hiện\"."
   ]
  }
 ],
 "metadata": {
  "language_info": {
   "name": "python"
  }
 },
 "nbformat": 4,
 "nbformat_minor": 2
}