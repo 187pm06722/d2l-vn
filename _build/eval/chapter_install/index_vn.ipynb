{
 "cells": [
  {
   "cell_type": "markdown",
   "metadata": {},
   "source": [
    "<!-- =================== Bắt đầu dịch Phần 1 ================================-->\n",
    "<!--\n",
    "# Installation\n",
    "-->\n",
    "\n",
    "# Cài đặt\n",
    "\n",
    ":label:`chap_installation`\n",
    "\n",
    "\n",
    "<!--\n",
    "In order to get you up and running for hands-on learning experience,\n",
    "we need to set you up with an environment for running Python,\n",
    "Jupyter notebooks, the relevant libraries,\n",
    "and the code needed to run the book itself.\n",
    "-->\n",
    "\n",
    "Để sẵn sàng cho những bài học thực hành, bạn cần một môi trường để chạy Python, Jupyter notebook, các thư viện liên quan và mã nguồn cần thiết cho những bài tập trong cuốn sách này.\n",
    "\n",
    "<!--\n",
    "## Installing Miniconda\n",
    "-->\n",
    "\n",
    "## Cài đặt Miniconda\n",
    "\n",
    "<!--\n",
    "The simplest way to get going will be to install\n",
    "[Miniconda](https://conda.io/en/latest/miniconda.html). The Python 3.x version\n",
    "is recommended. You can skip the following steps if conda has already been installed.\n",
    "Download the corresponding Miniconda sh file from the website\n",
    "and then execute the installation from the command line\n",
    "using `sh <FILENAME> -b`. For macOS users:\n",
    "-->\n",
    "\n",
    "Cách đơn giản nhất để bắt đầu là cài đặt [Miniconda](https://conda.io/en/latest/miniconda.html).\n",
    "Phiên bản Python 3.x được khuyên dùng.\n",
    "Bạn có thể bỏ qua những bước sau đây nếu đã cài đặt conda.\n",
    "Tải về tập tin sh tương ứng của Miniconda từ trang web và sau đó thực thi phần cài đặt từ command line sử dụng câu lệnh `sh <FILENAME> -b`.\n",
    "Với người dùng macOS:"
   ]
  },
  {
   "cell_type": "markdown",
   "metadata": {},
   "source": [
    "```bash\n",
    "# The file name is subject to changes\n",
    "sh Miniconda3-latest-MacOSX-x86_64.sh -b\n",
    "```\n"
   ]
  },
  {
   "cell_type": "markdown",
   "metadata": {},
   "source": [
    "<!--\n",
    "For Linux users:\n",
    "-->\n",
    "\n",
    "Với người dùng Linux:"
   ]
  },
  {
   "cell_type": "markdown",
   "metadata": {},
   "source": [
    "```bash\n",
    "# The file name is subject to changes\n",
    "sh Miniconda3-latest-Linux-x86_64.sh -b\n",
    "```\n"
   ]
  },
  {
   "cell_type": "markdown",
   "metadata": {},
   "source": [
    "<!--\n",
    "Next, initialize the shell so we can run `conda` directly.\n",
    "-->\n",
    "\n",
    "Tiếp theo, khởi tạo shell để chạy trực tiếp lệnh `conda`."
   ]
  },
  {
   "cell_type": "markdown",
   "metadata": {},
   "source": [
    "```bash\n",
    "~/miniconda3/bin/conda init\n",
    "```\n"
   ]
  },
  {
   "cell_type": "markdown",
   "metadata": {},
   "source": [
    "<!--\n",
    "Now close and re-open your current shell. You should be able to create a new\n",
    "environment as following:\n",
    "-->\n",
    "\n",
    "Bây giờ, hãy đóng và mở lại shell hiện tại.\n",
    "Bạn đã có thể tạo một môi trường mới bằng lệnh sau:"
   ]
  },
  {
   "cell_type": "markdown",
   "metadata": {},
   "source": [
    "```bash\n",
    "conda create --name d2l -y\n",
    "```\n"
   ]
  },
  {
   "cell_type": "markdown",
   "metadata": {},
   "source": [
    "<!--\n",
    "## Downloading the D2L Notebooks\n",
    "-->\n",
    "\n",
    "## Tải về notebook của D2L\n",
    "\n",
    "<!--\n",
    "Next, we need to download the code of this book. You can use the\n",
    "[link](https://d2l.ai/d2l-en-0.7.0.zip) to download and unzip the code.\n",
    "Alternatively, if you have `unzip` (otherwise run `sudo apt install unzip`) available:\n",
    "-->\n",
    "\n",
    "Tiếp theo, ta cần tải về mã nguồn của cuốn sách này.\n",
    "Bạn có thể tải mã nguồn từ [đường dẫn này](https://d2l.ai/d2l-en-0.7.0.zip) và giải nén.\n",
    "Một cách khác, nếu bạn đã có cài đặt sẵn `unzip` (nếu chưa, hãy chạy lệnh `sudo apt install unzip`):"
   ]
  },
  {
   "cell_type": "markdown",
   "metadata": {},
   "source": [
    "```bash\n",
    "mkdir d2l-en && cd d2l-en\n",
    "curl https://d2l.ai/d2l-en-0.7.0.zip -o d2l-en.zip\n",
    "unzip d2l-en.zip && rm d2l-en.zip\n",
    "```\n"
   ]
  },
  {
   "cell_type": "markdown",
   "metadata": {},
   "source": [
    "<!--\n",
    "Now we will want to activate the `d2l` environment and install `pip`.\n",
    "Enter `y` for the queries that follow this command.\n",
    "-->\n",
    "\n",
    "Bây giờ, ta sẽ kích hoạt môi trường `d2l` và cài đặt `pip`.\n",
    "Hãy nhập `y` cho phần truy vấn theo sau lệnh này:"
   ]
  },
  {
   "cell_type": "markdown",
   "metadata": {},
   "source": [
    "```bash\n",
    "conda activate d2l\n",
    "conda install python=3.7 pip -y\n",
    "```\n"
   ]
  },
  {
   "cell_type": "markdown",
   "metadata": {},
   "source": [
    "<!-- =================== Kết thúc dịch Phần 1 ================================-->\n",
    "\n",
    "<!-- =================== Bắt đầu dịch Phần 2 ================================-->\n",
    "\n",
    "<!--\n",
    "## Installing MXNet and the `d2l` Package\n",
    "-->\n",
    "\n",
    "## Cài đặt MXNet và gói thư viện `d2l`\n",
    "\n",
    "<!--\n",
    "Before installing MXNet, please first check\n",
    "whether or not you have proper GPUs on your machine\n",
    "(the GPUs that power the display on a standard laptop\n",
    "do not count for our purposes).\n",
    "If you are installing on a GPU server,\n",
    "proceed to :ref:`sec_gpu` for instructions\n",
    "to install a GPU-supported MXNet.\n",
    "-->\n",
    "\n",
    "Trước khi cài đặt MXNet, hãy kiểm tra thiết bị của bạn xem có GPU (card màn hình) đúng chuẩn hay không (không phải những GPU tích hợp hỗ trợ hiển thị trên các máy tính xách tay thông thường).\n",
    "Nếu bạn đang cài đặt trên một máy chủ GPU, hãy tiến hành theo :ref:`sec_gpu` để cài đặt phiên bản MXNet có hỗ trợ GPU.\n",
    "\n",
    "<!--\n",
    "Otherwise, you can install the CPU version.\n",
    "That will be more than enough horsepower to get you\n",
    "through the first few chapters but you will want\n",
    "to access GPUs before running larger models.\n",
    "-->\n",
    "\n",
    "Ngược lại, bạn có thể cài đặt phiên bản chỉ sử dụng CPU.\n",
    "Phiên bản này cũng thừa đủ để có thể tiến hành các chương đầu tiên nhưng bạn sẽ cần sử dụng GPU để có thể chạy những mô hình lớn hơn."
   ]
  },
  {
   "cell_type": "markdown",
   "metadata": {},
   "source": [
    "```bash\n",
    "# For Windows users\n",
    "pip install mxnet==1.6.0b20190926\n",
    "\n",
    "# For Linux and macOS users\n",
    "pip install mxnet==1.6.0b20191122\n",
    "```\n"
   ]
  },
  {
   "cell_type": "markdown",
   "metadata": {},
   "source": [
    "<!--\n",
    "We also install the `d2l` package that encapsulates frequently used\n",
    "functions and classes in this book.\n",
    "-->\n",
    "\n",
    "Ta cũng sẽ cài đặt gói thư viện `d2l` mà bao gồm các hàm và lớp thường xuyên được sử dụng trong cuốn sách này."
   ]
  },
  {
   "cell_type": "markdown",
   "metadata": {},
   "source": [
    "```bash\n",
    "pip install d2l==0.11.0\n",
    "```\n"
   ]
  },
  {
   "cell_type": "markdown",
   "metadata": {},
   "source": [
    "<!--\n",
    "Once they are installed, we now open the Jupyter notebook by running:\n",
    "-->\n",
    "\n",
    "Một khi đã cài đặt xong, ta mở notebook Jupyter lên bằng cách chạy lệnh sau:"
   ]
  },
  {
   "cell_type": "markdown",
   "metadata": {},
   "source": [
    "```bash\n",
    "jupyter notebook\n",
    "```\n"
   ]
  },
  {
   "cell_type": "markdown",
   "metadata": {},
   "source": [
    "<!--\n",
    "At this point, you can open http://localhost:8888 (it usually opens automatically) in your Web browser. Then we can run the code for each section of the book.\n",
    "Please always execute `conda activate d2l` to activate the runtime environment\n",
    "before running the code of the book or updating MXNet or the `d2l` package.\n",
    "To exit the environment, run `conda deactivate`.\n",
    "-->\n",
    "\n",
    " Bây giờ, bạn có thể truy cập vào địa chỉ http://localhost:8888 (thường sẽ được tự động mở) trên trình duyệt Web.\n",
    "Sau đó ta đã có thể chạy mã nguồn trong từng phần của cuốn sách này.\n",
    "Lưu ý là luôn luôn thực thi lệnh `conda activate d2l` để kích hoạt môi trường trước khi chạy mã nguồn trong sách cũng như khi cập nhật MXNet hoặc gói thư viện `d2l`.\n",
    "Thực thi lệnh `conda deactivate` để thoát khỏi môi trường.\n",
    "\n",
    "\n",
    "<!--\n",
    "## Upgrading to a New Version\n",
    "-->\n",
    "\n",
    "## Nâng cấp lên Phiên bản Mới\n",
    "\n",
    "<!--\n",
    "Both this book and MXNet are keeping improving. Please check a new version from time to time.\n",
    "-->\n",
    "\n",
    "Cả cuốn sách này và MXNet đều đang tiếp tục được cải thiện.\n",
    "Thỉnh thoảng, hãy kiểm tra xem đã có phiên bản mới hay chưa.\n",
    "\n",
    "<!--\n",
    "1. The URL https://d2l.ai/d2l-en.zip always points to the latest contents.\n",
    "2. Please upgrade the `d2l` package by `pip install d2l --upgrade`.\n",
    "3. For the CPU version, MXNet can be upgraded by `pip install -U --pre mxnet`.\n",
    "-->\n",
    "\n",
    "1. Đường dẫn https://d2l.ai/d2l-en.zip luôn luôn trỏ đến phiên bản mới nhất.\n",
    "2. Để cập nhật gói thư viện `d2l` hãy sử dụng lệnh `pip install d2l --upgrade`.\n",
    "3. Đối với phiên bản CPU, MXNet có thể được cập nhật bằng lệnh `pip install -U --pre mxnet`.\n",
    "\n",
    "<!-- =================== Kết thúc dịch Phần 2 ================================-->\n",
    "\n",
    "<!-- =================== Bắt đầu dịch Phần 3 ================================-->\n",
    "\n",
    "<!--\n",
    "## GPU Support\n",
    "-->\n",
    "\n",
    "## Hỗ trợ GPU\n",
    "\n",
    ":label:`sec_gpu`\n",
    "\n",
    "\n",
    "<!--\n",
    "By default, MXNet is installed without GPU support\n",
    "to ensure that it will run on any computer (including most laptops).\n",
    "Part of this book requires or recommends running with GPU.\n",
    "If your computer has NVIDIA graphics cards and has installed [CUDA](https://developer.nvidia.com/cuda-downloads),\n",
    "then you should install a GPU-enabled MXNet.\n",
    "If you have installed the CPU-only version,\n",
    "you may need to remove it first by running:\n",
    "-->\n",
    "\n",
    "Phiên bản MXNet mặc định được cài đặt không hỗ trợ GPU để đảm bảo có thể chạy trên bất kỳ máy tính nào (bao gồm phần lớn các máy tính xách tay).\n",
    "Một phần của cuốn sách này yêu cầu hoặc khuyến khích chạy trên GPU.\n",
    "Nếu máy tính của bạn có card đồ hoạ của NVIDIA và đã cài đặt [CUDA](https://developer.nvidia.com/cuda-downloads), thì bạn nên cài đặt bản MXNet có hỗ trợ GPU.\n",
    "Trong trường hợp bạn đã cài đặt phiên bản dành riêng cho CPU, bạn có thể cần xoá nó trước bằng cách chạy lệnh:"
   ]
  },
  {
   "cell_type": "markdown",
   "metadata": {},
   "source": [
    "```bash\n",
    "pip uninstall mxnet\n",
    "```\n"
   ]
  },
  {
   "cell_type": "markdown",
   "metadata": {},
   "source": [
    "<!--\n",
    "Then we need to find the CUDA version you installed.\n",
    "You may check it through `nvcc --version` or `cat /usr/local/cuda/version.txt`.\n",
    "Assume that you have installed CUDA 10.1,\n",
    "then you can install MXNet\n",
    "with the following command:\n",
    "-->\n",
    "\n",
    "Sau đó, ta cần tìm phiên bản CUDA mà bạn đã cài đặt.\n",
    "Bạn có thể kiểm tra thông qua lệnh `nvcc --version` hoặc `cat /usr/local/cuda/version.txt`.\n",
    "Giả sử, bạn đã cài đặt CUDA 10.1, bạn có thể cài đặt MXNet với lệnh sau:"
   ]
  },
  {
   "cell_type": "markdown",
   "metadata": {},
   "source": [
    "```bash\n",
    "# Dành cho người dùng Windows\n",
    "pip install mxnet-cu101==1.6.0b20190926\n",
    "\n",
    "# Dành cho người dùng Linux và macOS\n",
    "pip install mxnet-cu101==1.6.0b20191122\n",
    "```\n"
   ]
  },
  {
   "cell_type": "markdown",
   "metadata": {},
   "source": [
    "<!--\n",
    "Like the CPU version, the GPU-enabled MXNet can be upgraded by\n",
    "`pip install -U --pre mxnet-cu101`.\n",
    "You may change the last digits according to your CUDA version,\n",
    "e.g., `cu100` for CUDA 10.0 and `cu90` for CUDA 9.0.\n",
    "You can find all available MXNet versions via `pip search mxnet`.\n",
    "-->\n",
    "\n",
    "Tương tự phiên bản CPU, MXNet hỗ trợ GPU có thể được nâng cấp bằng lệnh `pip install -U --pre mxnet-cu101`.\n",
    "Bạn có thể thay đổi các chữ số cuối theo phiên bản CUDA của bạn, ví dụ, `cu100` cho CUDA phiên bản 10.0 và `cu90` cho CUDA phiên bản 9.0.\n",
    "Bạn có thể tìm thấy tất cả các phiên bản MXNet có sẵn thông qua lệnh `pip search mxnet`.\n",
    "\n",
    "\n",
    "<!--\n",
    "## Exercises\n",
    "-->\n",
    "\n",
    "## Bài tập\n",
    "\n",
    "<!--\n",
    "1. Download the code for the book and install the runtime environment.\n",
    "-->\n",
    "\n",
    "1. Tải xuống mã nguồn dành cho cuốn sách và cài đặt môi trường chạy.\n",
    "\n",
    "\n",
    "<!--\n",
    "## [Discussions](https://discuss.mxnet.io/t/2315)\n",
    "-->\n",
    "\n",
    "## [Thảo luận](https://discuss.mxnet.io/t/2315)\n",
    "\n",
    "<!--\n",
    "![](../img/qr_install.svg)\n",
    "-->\n",
    "\n",
    "![](../img/qr_install.svg)\n",
    "\n",
    "<!-- =================== Kết thúc dịch Phần 3 ================================-->\n",
    "\n",
    "### Những người thực hiện\n",
    "Bản dịch trong trang này được thực hiện bởi:\n",
    "<!--\n",
    "Tác giả của mỗi Pull Request điền tên mình và tên những người review mà bạn thấy\n",
    "hữu ích vào từng phần tương ứng. Mỗi dòng một tên.\n",
    "\n",
    "Lưu ý:\n",
    "* Mỗi tên chỉ xuất hiện một lần: Nếu bạn đã dịch hoặc review phần 1 của trang này\n",
    "thì không cần điền vào các phần sau nữa.\n",
    "* Nếu reviewer không cung cấp tên, bạn có thể dùng tên tài khoản GitHub của họ\n",
    "với dấu `@` ở đầu. Ví dụ: @aivivn.\n",
    "-->\n",
    "\n",
    "<!-- Phần 1 -->\n",
    "* Phạm Hồng Vinh\n",
    "* Sâm Thế Hải\n",
    "* Nguyễn Cảnh Thướng\n",
    "* Lê Khắc Hồng Phúc\n",
    "* Đoàn Võ Duy Thanh"
   ]
  }
 ],
 "metadata": {
  "language_info": {
   "name": "python"
  }
 },
 "nbformat": 4,
 "nbformat_minor": 2
}