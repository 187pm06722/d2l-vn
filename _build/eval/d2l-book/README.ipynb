{
 "cells": [
  {
   "cell_type": "markdown",
   "metadata": {},
   "source": [
    "# D2L-Book: A Toolkit for Hands-on Books\n",
    "\n",
    "This package helps you build and publish **a book with Python codes**, or\n",
    "**Python package documents with tutorials**. The document site is available at\n",
    "https://book.d2l.ai"
   ]
  }
 ],
 "metadata": {
  "language_info": {
   "name": "python"
  }
 },
 "nbformat": 4,
 "nbformat_minor": 2
}